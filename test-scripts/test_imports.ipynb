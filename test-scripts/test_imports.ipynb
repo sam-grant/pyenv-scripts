{
 "cells": [
  {
   "cell_type": "code",
   "execution_count": 1,
   "id": "95cf73be-58e6-4171-a1ef-5ec29006e233",
   "metadata": {},
   "outputs": [],
   "source": [
    "import pyarrow"
   ]
  },
  {
   "cell_type": "code",
   "execution_count": 2,
   "id": "5ee4bdb4-b8f1-4860-bd9f-f25046391001",
   "metadata": {},
   "outputs": [
    {
     "name": "stdout",
     "output_type": "stream",
     "text": [
      "✅ matplotlib imported successfully\n",
      "✅ pandas imported successfully\n",
      "✅ uproot imported successfully\n",
      "✅ scipy imported successfully\n",
      "✅ sklearn imported successfully\n",
      "✅ torch imported successfully\n"
     ]
    },
    {
     "name": "stderr",
     "output_type": "stream",
     "text": [
      "2025-08-04 22:22:04.506894: I tensorflow/core/platform/cpu_feature_guard.cc:210] This TensorFlow binary is optimized to use available CPU instructions in performance-critical operations.\n",
      "To enable the following instructions: SSE4.1 SSE4.2 AVX AVX2 FMA, in other operations, rebuild TensorFlow with the appropriate compiler flags.\n"
     ]
    },
    {
     "name": "stdout",
     "output_type": "stream",
     "text": [
      "✅ tensorflow imported successfully\n",
      "✅ jupyterlab imported successfully\n",
      "✅ notebook imported successfully\n",
      "✅ statsmodels imported successfully\n",
      "✅ awkward imported successfully\n",
      "✅ urllib3 imported successfully\n",
      "✅ ipykernel imported successfully\n",
      "✅ vector imported successfully\n",
      "✅ plotly imported successfully\n",
      "✅ dash imported successfully\n",
      "✅ tqdm imported successfully\n",
      "✅ hist imported successfully\n",
      "✅ pyarrow imported successfully\n",
      "✅ pyutils imported successfully\n",
      "urllib3 version is correct\n",
      "from pyutils.pyread import Reader imported successfully\n",
      "from pyutils.pyimport import Importer imported successfully\n",
      "from pyutils.pyprocess import Processor imported successfully\n",
      "from pyutils.pyselect import Select imported successfully\n",
      "from pyutils.pyvector import Vector imported successfully\n",
      "from pyutils.pyprint import Print imported successfully\n",
      "from pyutils.pyplot import Plot imported successfully\n",
      "from pyutils.pydisplay import Display imported successfully\n"
     ]
    }
   ],
   "source": [
    "%run test_imports.py"
   ]
  },
  {
   "cell_type": "code",
   "execution_count": null,
   "id": "413d32dc-9103-4c9d-9745-9236c931017c",
   "metadata": {},
   "outputs": [],
   "source": []
  }
 ],
 "metadata": {
  "kernelspec": {
   "display_name": "mu2e_env [conda env:.conda-test]",
   "language": "python",
   "name": "conda-env-.conda-test-ana_v2.2.0"
  },
  "language_info": {
   "codemirror_mode": {
    "name": "ipython",
    "version": 3
   },
   "file_extension": ".py",
   "mimetype": "text/x-python",
   "name": "python",
   "nbconvert_exporter": "python",
   "pygments_lexer": "ipython3",
   "version": "3.12.7"
  }
 },
 "nbformat": 4,
 "nbformat_minor": 5
}
